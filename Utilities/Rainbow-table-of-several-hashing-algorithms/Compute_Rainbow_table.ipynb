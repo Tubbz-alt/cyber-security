{
 "cells": [
  {
   "cell_type": "code",
   "execution_count": 1,
   "metadata": {
    "colab": {},
    "colab_type": "code",
    "id": "1m7xat_EqW6g"
   },
   "outputs": [],
   "source": [
    "import numpy as np\n",
    "import pandas as pd \n",
    "\n",
    "import hashlib\n",
    "\n",
    "# from IPython.core.interactiveshell import InteractiveShell\n",
    "# InteractiveShell.ast_node_interactivity = 'all'"
   ]
  },
  {
   "cell_type": "markdown",
   "metadata": {
    "colab_type": "text",
    "id": "1gwYdCamqW6j"
   },
   "source": [
    "## Rainbow table"
   ]
  },
  {
   "cell_type": "code",
   "execution_count": 2,
   "metadata": {
    "colab": {
     "base_uri": "https://localhost:8080/",
     "height": 343
    },
    "colab_type": "code",
    "id": "5CjfqXr6qW6j",
    "outputId": "802afb3b-e554-425e-fac3-2a271ebf48aa"
   },
   "outputs": [
    {
     "name": "stdout",
     "output_type": "stream",
     "text": [
      "961189\n",
      "961189\n"
     ]
    }
   ],
   "source": [
    "# URL_local = 'list of password with duplicates.csv'\n",
    "# URL_web = 'https://raw.githubusercontent.com/alik604/Rainbow-table-for-serval-hashing-algorithm/master/data%20without%20duplicates.csv'\n",
    "# URL_web2 = 'https://github.com/alik604/Rainbow-table-for-serval-hashing-algorithm/raw/master/list%20of%20password%20with%20duplicates.csv' \n",
    "# data_unique = pd.read_csv(URL_web2)\n",
    "# # data_unique = np.genfromtxt('list of password with duplicates.csv', delimiter=',')\n",
    "# # data_unique.shape\n",
    "\n",
    "# ! wget https://github.com/alik604/Rainbow-table-for-serval-hashing-algorithm/raw/master/list%20of%20password%20with%20duplicates.csv\n",
    "\n",
    "data = []\n",
    "with open('list of password with duplicates.csv', 'r', encoding='latin1', newline='') as csvfile:\n",
    "  for line in csvfile:\n",
    "    data.append(line[:-3])\n",
    "print(len(data))\n",
    "data = list(set(data))\n",
    "print(len(data))"
   ]
  },
  {
   "cell_type": "code",
   "execution_count": 4,
   "metadata": {
    "colab": {
     "base_uri": "https://localhost:8080/",
     "height": 187
    },
    "colab_type": "code",
    "id": "uyflILpPqW6r",
    "outputId": "c8119eb4-f0bd-4ba7-cd7a-5d52fc23757f"
   },
   "outputs": [
    {
     "name": "stderr",
     "output_type": "stream",
     "text": [
      "IOPub data rate exceeded.\n",
      "The notebook server will temporarily stop sending output\n",
      "to the client in order to avoid crashing it.\n",
      "To change this limit, set the config variable\n",
      "`--NotebookApp.iopub_data_rate_limit`.\n",
      "\n",
      "Current values:\n",
      "NotebookApp.iopub_data_rate_limit=1000000.0 (bytes/sec)\n",
      "NotebookApp.rate_limit_window=3.0 (secs)\n",
      "\n"
     ]
    }
   ],
   "source": [
    "# data  = data_unique.values.reshape(1,-1)[0]\n",
    "data_striped = [i.strip() for i in data]\n",
    "ls = list(set(data_striped))\n",
    "data = [i.encode('utf-8') for i in data_striped]\n",
    "\n",
    "print(data)"
   ]
  },
  {
   "cell_type": "markdown",
   "metadata": {
    "colab_type": "text",
    "id": "nmWqKxQVqW6t"
   },
   "source": [
    "### construct tables for MD5, SHA1, SHA2, SHA3, NTLM, \n",
    "\n",
    "more functions: https://pythonhosted.org/passlib/lib/passlib.crypto.html"
   ]
  },
  {
   "cell_type": "code",
   "execution_count": 5,
   "metadata": {
    "colab": {
     "base_uri": "https://localhost:8080/",
     "height": 71
    },
    "colab_type": "code",
    "id": "AFmsI5CXqW6x",
    "outputId": "684eeb9b-6c0a-41e7-b0f0-5a4c07fab251"
   },
   "outputs": [
    {
     "name": "stdout",
     "output_type": "stream",
     "text": [
      "sha3_384, shake_256, sha3_224, shake_128, sha224, blake2b, sha3_512, blake2s, md5, sha256, sha512, sha384, sha1, sha3_256\n",
      "sha3_384, shake_256, sha3_224, shake_128, sha224, blake2b, sha3_512, blake2s, md5, sha256, sha512, sha384, sha1, sha3_256\n"
     ]
    }
   ],
   "source": [
    "print(', '.join(list(hashlib.algorithms_available)))\n",
    "\n",
    "print(', '.join(list(hashlib.algorithms_guaranteed)))"
   ]
  },
  {
   "cell_type": "code",
   "execution_count": 6,
   "metadata": {
    "colab": {
     "base_uri": "https://localhost:8080/",
     "height": 34
    },
    "colab_type": "code",
    "id": "r0IVC19v6DLR",
    "outputId": "e55e590c-c1a9-4857-97bf-94d3ea50ace3"
   },
   "outputs": [
    {
     "data": {
      "text/plain": [
       "(961189, 1)"
      ]
     },
     "execution_count": 6,
     "metadata": {},
     "output_type": "execute_result"
    }
   ],
   "source": [
    "df = pd.DataFrame(data_striped,columns=['passwords'])\n",
    "# del data_striped\n",
    "df.shape"
   ]
  },
  {
   "cell_type": "code",
   "execution_count": 7,
   "metadata": {
    "colab": {},
    "colab_type": "code",
    "id": "6aFzbPzHqW61"
   },
   "outputs": [],
   "source": [
    "md5_list = [] \n",
    "for idx in range(len(data)): \n",
    "  tmp = hashlib.md5(data[idx])\n",
    "  tmp = tmp.hexdigest()\n",
    "  md5_list.append(tmp)\n",
    "\n",
    "len(md5_list)\n",
    "df['MD5'] = md5_list"
   ]
  },
  {
   "cell_type": "code",
   "execution_count": 8,
   "metadata": {
    "colab": {},
    "colab_type": "code",
    "id": "wFd1xs2aZBxH"
   },
   "outputs": [],
   "source": [
    "md5_list = [] \n",
    "for idx in range(len(data)): \n",
    "  tmp = hashlib.md5(data[idx])\n",
    "  tmp = tmp.hexdigest()\n",
    "\n",
    "  tmp = hashlib.md5(tmp.encode('utf-8')) # worng? \n",
    "  tmp = tmp.hexdigest()\n",
    "  md5_list.append(tmp)\n",
    "len(md5_list)\n",
    "df['MD5 of MD5'] = md5_list"
   ]
  },
  {
   "cell_type": "code",
   "execution_count": 9,
   "metadata": {
    "colab": {},
    "colab_type": "code",
    "id": "nrTIZQvmqW66"
   },
   "outputs": [],
   "source": [
    "myList = [] \n",
    "for idx in range(len(data)): \n",
    "  tmp = hashlib.sha1(data[idx])\n",
    "  tmp = tmp.hexdigest()\n",
    "  myList.append(tmp)\n",
    "df['sha1'] = myList"
   ]
  },
  {
   "cell_type": "code",
   "execution_count": 10,
   "metadata": {
    "colab": {},
    "colab_type": "code",
    "id": "MryZyrSpqW69"
   },
   "outputs": [],
   "source": [
    "myList = [] \n",
    "for idx in range(len(data)): \n",
    "  tmp = hashlib.sha224(data[idx])\n",
    "  tmp = tmp.hexdigest()\n",
    "  myList.append(tmp)\n",
    "df['sha224'] = myList"
   ]
  },
  {
   "cell_type": "code",
   "execution_count": 11,
   "metadata": {
    "colab": {},
    "colab_type": "code",
    "id": "CIdRsFxZqW6_"
   },
   "outputs": [],
   "source": [
    "myList = [] \n",
    "for idx in range(len(data)): \n",
    "  tmp = hashlib.sha256(data[idx])\n",
    "  tmp = tmp.hexdigest()\n",
    "  myList.append(tmp)\n",
    "df['sha256'] = myList"
   ]
  },
  {
   "cell_type": "code",
   "execution_count": 12,
   "metadata": {
    "colab": {},
    "colab_type": "code",
    "id": "oGGdXywF_KQ3"
   },
   "outputs": [],
   "source": [
    "myList = [] \n",
    "for idx in range(len(data)): \n",
    "  tmp = hashlib.sha384(data[idx])\n",
    "  tmp = tmp.hexdigest()\n",
    "  myList.append(tmp)\n",
    "df['sha384'] = myList"
   ]
  },
  {
   "cell_type": "code",
   "execution_count": 13,
   "metadata": {
    "colab": {},
    "colab_type": "code",
    "id": "-gKg85WMTgQU"
   },
   "outputs": [],
   "source": [
    "myList = [] \n",
    "for idx in range(len(data)): \n",
    "  tmp = hashlib.sha512(data[idx])\n",
    "  tmp = tmp.hexdigest()\n",
    "  myList.append(tmp)\n",
    "df['sha512'] = myList"
   ]
  },
  {
   "cell_type": "code",
   "execution_count": 14,
   "metadata": {
    "colab": {},
    "colab_type": "code",
    "id": "D_QZvg29aw1y"
   },
   "outputs": [],
   "source": [
    "myList = [] \n",
    "for idx in range(len(data)): \n",
    "  tmp = hashlib.sha512(data[idx])\n",
    "  tmp = tmp.hexdigest()\n",
    "  tmp = hashlib.sha512(tmp.encode('utf-8'))\n",
    "  tmp = tmp.hexdigest()\n",
    "  myList.append(tmp)\n",
    "df['sha512 of sha512'] = myList"
   ]
  },
  {
   "cell_type": "code",
   "execution_count": 15,
   "metadata": {
    "colab": {},
    "colab_type": "code",
    "id": "Qh_pIl4xTg1x"
   },
   "outputs": [],
   "source": [
    "myList = [] \n",
    "for idx in range(len(data)): \n",
    "  tmp = hashlib.sha3_224(data[idx])\n",
    "  tmp = tmp.hexdigest()\n",
    "  myList.append(tmp)\n",
    "df['sha3_224'] = myList"
   ]
  },
  {
   "cell_type": "code",
   "execution_count": 16,
   "metadata": {
    "colab": {},
    "colab_type": "code",
    "id": "A8vR_KfkTg5D"
   },
   "outputs": [],
   "source": [
    "myList = [] \n",
    "for idx in range(len(data)): \n",
    "  tmp = hashlib.sha3_512(data[idx])\n",
    "  tmp = tmp.hexdigest()\n",
    "  myList.append(tmp)\n",
    "df['sha3_512'] = myList"
   ]
  },
  {
   "cell_type": "code",
   "execution_count": 17,
   "metadata": {
    "colab": {},
    "colab_type": "code",
    "id": "SIW2fOyATg9T"
   },
   "outputs": [],
   "source": [
    "myList = [] \n",
    "for idx in range(len(data)): \n",
    "  tmp = hashlib.sha3_256(data[idx])\n",
    "  tmp = tmp.hexdigest()\n",
    "  myList.append(tmp)\n",
    "df['sha3_256'] = myList"
   ]
  },
  {
   "cell_type": "code",
   "execution_count": 18,
   "metadata": {
    "colab": {},
    "colab_type": "code",
    "id": "THphKO98Tg_t"
   },
   "outputs": [],
   "source": [
    "import binascii\n",
    "myList = [] \n",
    "for idx in range(len(data)):\n",
    "  tmp = hashlib.new('md4', str(data[idx]).encode('utf-16le')).digest() \n",
    "  tmp = binascii.hexlify(tmp)\n",
    "  myList.append(tmp)\n",
    "df['NTLM - not salted by username'] = myList"
   ]
  },
  {
   "cell_type": "code",
   "execution_count": 19,
   "metadata": {
    "colab": {},
    "colab_type": "code",
    "id": "GY--yMsbThCw"
   },
   "outputs": [],
   "source": [
    "df.to_csv('./rainbow_table.csv')"
   ]
  },
  {
   "cell_type": "code",
   "execution_count": 20,
   "metadata": {
    "colab": {
     "base_uri": "https://localhost:8080/",
     "height": 122
    },
    "colab_type": "code",
    "id": "Pwis4LryqB0c",
    "outputId": "77ace39e-47a6-4a1a-aceb-c181cc5d137f"
   },
   "outputs": [
    {
     "ename": "ModuleNotFoundError",
     "evalue": "No module named 'google.colab'",
     "output_type": "error",
     "traceback": [
      "\u001b[1;31m---------------------------------------------------------------------------\u001b[0m",
      "\u001b[1;31mModuleNotFoundError\u001b[0m                       Traceback (most recent call last)",
      "\u001b[1;32m<ipython-input-20-d5df0069828e>\u001b[0m in \u001b[0;36m<module>\u001b[1;34m\u001b[0m\n\u001b[1;32m----> 1\u001b[1;33m \u001b[1;32mfrom\u001b[0m \u001b[0mgoogle\u001b[0m\u001b[1;33m.\u001b[0m\u001b[0mcolab\u001b[0m \u001b[1;32mimport\u001b[0m \u001b[0mdrive\u001b[0m\u001b[1;33m\u001b[0m\u001b[1;33m\u001b[0m\u001b[0m\n\u001b[0m\u001b[0;32m      2\u001b[0m \u001b[0mdrive\u001b[0m\u001b[1;33m.\u001b[0m\u001b[0mmount\u001b[0m\u001b[1;33m(\u001b[0m\u001b[1;34m'/content/drive'\u001b[0m\u001b[1;33m)\u001b[0m\u001b[1;33m\u001b[0m\u001b[1;33m\u001b[0m\u001b[0m\n",
      "\u001b[1;31mModuleNotFoundError\u001b[0m: No module named 'google.colab'"
     ]
    }
   ],
   "source": [
    "# from google.colab import drive\n",
    "# drive.mount('/content/drive')"
   ]
  },
  {
   "cell_type": "code",
   "execution_count": null,
   "metadata": {
    "colab": {},
    "colab_type": "code",
    "id": "M2JCs83KThJ5"
   },
   "outputs": [],
   "source": [
    "# !cp rainbow_table.csv 'drive/My Drive'"
   ]
  },
  {
   "cell_type": "code",
   "execution_count": null,
   "metadata": {
    "colab": {
     "base_uri": "https://localhost:8080/",
     "height": 85
    },
    "colab_type": "code",
    "id": "8zwmt-WnqpPX",
    "outputId": "665e8f27-0ef0-4269-a076-602575b1a5bd"
   },
   "outputs": [],
   "source": [
    "# !ls"
   ]
  },
  {
   "cell_type": "code",
   "execution_count": null,
   "metadata": {
    "colab": {},
    "colab_type": "code",
    "id": "LrpI8USirXGs"
   },
   "outputs": [],
   "source": []
  }
 ],
 "metadata": {
  "accelerator": "GPU",
  "colab": {
   "collapsed_sections": [],
   "name": "Compute Rainbow table",
   "provenance": [],
   "toc_visible": true
  },
  "kernelspec": {
   "display_name": "Python 3",
   "language": "python",
   "name": "python3"
  },
  "language_info": {
   "codemirror_mode": {
    "name": "ipython",
    "version": 3
   },
   "file_extension": ".py",
   "mimetype": "text/x-python",
   "name": "python",
   "nbconvert_exporter": "python",
   "pygments_lexer": "ipython3",
   "version": "3.7.6"
  }
 },
 "nbformat": 4,
 "nbformat_minor": 4
}
